{
 "cells": [
  {
   "cell_type": "code",
   "execution_count": 1,
   "metadata": {},
   "outputs": [
    {
     "name": "stdout",
     "output_type": "stream",
     "text": [
      "Collecting PyAthena\n",
      "  Downloading https://files.pythonhosted.org/packages/34/11/20fbc9d9c0825e3c1c7ef9ea7e6489b20f582a24ca05ab023003948034cf/PyAthena-1.7.1-py2.py3-none-any.whl\n",
      "Collecting future (from PyAthena)\n",
      "\u001b[?25l  Downloading https://files.pythonhosted.org/packages/90/52/e20466b85000a181e1e144fd8305caf2cf475e2f9674e797b222f8105f5f/future-0.17.1.tar.gz (829kB)\n",
      "\u001b[K    100% |████████████████████████████████| 829kB 28.2MB/s ta 0:00:01\n",
      "\u001b[?25hCollecting tenacity>=4.1.0 (from PyAthena)\n",
      "  Downloading https://files.pythonhosted.org/packages/1e/a1/be8c8610f4620c56790965ba2b564dd76d13cbcd7c2ff8f6053ce63027fb/tenacity-5.1.1-py2.py3-none-any.whl\n",
      "Requirement already satisfied: botocore>=1.5.52 in /home/ec2-user/anaconda3/envs/tensorflow_p36/lib/python3.6/site-packages (from PyAthena) (1.12.232)\n",
      "Requirement already satisfied: boto3>=1.4.4 in /home/ec2-user/anaconda3/envs/tensorflow_p36/lib/python3.6/site-packages (from PyAthena) (1.9.232)\n",
      "Requirement already satisfied: six>=1.9.0 in /home/ec2-user/anaconda3/envs/tensorflow_p36/lib/python3.6/site-packages (from tenacity>=4.1.0->PyAthena) (1.11.0)\n",
      "Requirement already satisfied: docutils<0.16,>=0.10 in /home/ec2-user/anaconda3/envs/tensorflow_p36/lib/python3.6/site-packages (from botocore>=1.5.52->PyAthena) (0.14)\n",
      "Requirement already satisfied: python-dateutil<3.0.0,>=2.1; python_version >= \"2.7\" in /home/ec2-user/anaconda3/envs/tensorflow_p36/lib/python3.6/site-packages (from botocore>=1.5.52->PyAthena) (2.7.3)\n",
      "Requirement already satisfied: jmespath<1.0.0,>=0.7.1 in /home/ec2-user/anaconda3/envs/tensorflow_p36/lib/python3.6/site-packages (from botocore>=1.5.52->PyAthena) (0.9.4)\n",
      "Requirement already satisfied: urllib3<1.26,>=1.20; python_version >= \"3.4\" in /home/ec2-user/anaconda3/envs/tensorflow_p36/lib/python3.6/site-packages (from botocore>=1.5.52->PyAthena) (1.23)\n",
      "Requirement already satisfied: s3transfer<0.3.0,>=0.2.0 in /home/ec2-user/anaconda3/envs/tensorflow_p36/lib/python3.6/site-packages (from boto3>=1.4.4->PyAthena) (0.2.1)\n",
      "Building wheels for collected packages: future\n",
      "  Running setup.py bdist_wheel for future ... \u001b[?25ldone\n",
      "\u001b[?25h  Stored in directory: /home/ec2-user/.cache/pip/wheels/0c/61/d2/d6b7317325828fbb39ee6ad559dbe4664d0896da4721bf379e\n",
      "Successfully built future\n",
      "Installing collected packages: future, tenacity, PyAthena\n",
      "Successfully installed PyAthena-1.7.1 future-0.17.1 tenacity-5.1.1\n",
      "\u001b[33mYou are using pip version 10.0.1, however version 19.2.3 is available.\n",
      "You should consider upgrading via the 'pip install --upgrade pip' command.\u001b[0m\n"
     ]
    }
   ],
   "source": [
    "import sys\n",
    "!{sys.executable} -m pip install PyAthena\n"
   ]
  },
  {
   "cell_type": "code",
   "execution_count": 72,
   "metadata": {},
   "outputs": [],
   "source": [
    "from pyathena import connect\n",
    "import pandas as pd\n",
    "conn = connect(s3_staging_dir='s3://aws-athena-query-results-984073016564-us-west-2/sagemaker', region_name='us-west-2')\n",
    "df = pd.read_sql(\"SELECT distinct * FROM retsdata.union_geo2 WHERE city = 'San Diego'\", conn)"
   ]
  },
  {
   "cell_type": "code",
   "execution_count": 73,
   "metadata": {},
   "outputs": [
    {
     "data": {
      "text/plain": [
       "168786"
      ]
     },
     "execution_count": 73,
     "metadata": {},
     "output_type": "execute_result"
    }
   ],
   "source": [
    "len(df)"
   ]
  },
  {
   "cell_type": "code",
   "execution_count": 74,
   "metadata": {},
   "outputs": [
    {
     "data": {
      "text/html": [
       "<div>\n",
       "<style scoped>\n",
       "    .dataframe tbody tr th:only-of-type {\n",
       "        vertical-align: middle;\n",
       "    }\n",
       "\n",
       "    .dataframe tbody tr th {\n",
       "        vertical-align: top;\n",
       "    }\n",
       "\n",
       "    .dataframe thead th {\n",
       "        text-align: right;\n",
       "    }\n",
       "</style>\n",
       "<table border=\"1\" class=\"dataframe\">\n",
       "  <thead>\n",
       "    <tr style=\"text-align: right;\">\n",
       "      <th></th>\n",
       "      <th>streetnumber</th>\n",
       "      <th>streetdirprefix</th>\n",
       "      <th>streetname</th>\n",
       "      <th>city</th>\n",
       "      <th>state</th>\n",
       "      <th>zip5</th>\n",
       "      <th>directions</th>\n",
       "      <th>cmplx</th>\n",
       "      <th>neighborhd</th>\n",
       "    </tr>\n",
       "  </thead>\n",
       "  <tbody>\n",
       "    <tr>\n",
       "      <th>161619</th>\n",
       "      <td>2626</td>\n",
       "      <td>None</td>\n",
       "      <td>Coronado Ave</td>\n",
       "      <td>San Diego</td>\n",
       "      <td>CA</td>\n",
       "      <td>88888</td>\n",
       "      <td>I-5 south, exit on Coronado Ave, left turn Cro...</td>\n",
       "      <td>South Sd</td>\n",
       "      <td>South Sd</td>\n",
       "    </tr>\n",
       "    <tr>\n",
       "      <th>8375</th>\n",
       "      <td>2626</td>\n",
       "      <td>None</td>\n",
       "      <td>Coronado Ave</td>\n",
       "      <td>San Diego</td>\n",
       "      <td>CA</td>\n",
       "      <td>88888</td>\n",
       "      <td>I-5 south, exit on Coronado Ave, left turn</td>\n",
       "      <td>Helena Mobile Home Park</td>\n",
       "      <td>Helena Mobile Park</td>\n",
       "    </tr>\n",
       "    <tr>\n",
       "      <th>7005</th>\n",
       "      <td>3033</td>\n",
       "      <td>None</td>\n",
       "      <td>Via Asoleado</td>\n",
       "      <td>San Diego</td>\n",
       "      <td>CA</td>\n",
       "      <td>91901</td>\n",
       "      <td>8E - Tavern Rd (go South) - S Grade (go East) ...</td>\n",
       "      <td>Rancho Palo Verde</td>\n",
       "      <td>Alpine</td>\n",
       "    </tr>\n",
       "    <tr>\n",
       "      <th>109040</th>\n",
       "      <td>1915</td>\n",
       "      <td>None</td>\n",
       "      <td>Ranchito Ln</td>\n",
       "      <td>San Diego</td>\n",
       "      <td>CA</td>\n",
       "      <td>91901</td>\n",
       "      <td>None</td>\n",
       "      <td>None</td>\n",
       "      <td>Alpine</td>\n",
       "    </tr>\n",
       "    <tr>\n",
       "      <th>5226</th>\n",
       "      <td>2123</td>\n",
       "      <td>None</td>\n",
       "      <td>DELAND CT</td>\n",
       "      <td>San Diego</td>\n",
       "      <td>CA</td>\n",
       "      <td>91901</td>\n",
       "      <td>S Grade to Deland Dr to Deland Ct</td>\n",
       "      <td>None</td>\n",
       "      <td>Alpine</td>\n",
       "    </tr>\n",
       "    <tr>\n",
       "      <th>90720</th>\n",
       "      <td>2123</td>\n",
       "      <td>None</td>\n",
       "      <td>DELAND CT</td>\n",
       "      <td>San Diego</td>\n",
       "      <td>CA</td>\n",
       "      <td>91901</td>\n",
       "      <td>S Grade to Deland Dr to Deland Ct Cross Street...</td>\n",
       "      <td>Alpine</td>\n",
       "      <td>Alpine</td>\n",
       "    </tr>\n",
       "    <tr>\n",
       "      <th>158224</th>\n",
       "      <td>1915</td>\n",
       "      <td>None</td>\n",
       "      <td>Ranchito Ln</td>\n",
       "      <td>San Diego</td>\n",
       "      <td>CA</td>\n",
       "      <td>91901</td>\n",
       "      <td>Cross Street: Alpine Heights.</td>\n",
       "      <td>Alpine</td>\n",
       "      <td>Alpine</td>\n",
       "    </tr>\n",
       "    <tr>\n",
       "      <th>12300</th>\n",
       "      <td>1434</td>\n",
       "      <td>None</td>\n",
       "      <td>Marshall Rd</td>\n",
       "      <td>San Diego</td>\n",
       "      <td>CA</td>\n",
       "      <td>91901</td>\n",
       "      <td>Cross Street: Alpine Blvd.</td>\n",
       "      <td>Alpine</td>\n",
       "      <td>Alpine</td>\n",
       "    </tr>\n",
       "    <tr>\n",
       "      <th>58473</th>\n",
       "      <td>3033</td>\n",
       "      <td>None</td>\n",
       "      <td>Via Asoleado</td>\n",
       "      <td>San Diego</td>\n",
       "      <td>CA</td>\n",
       "      <td>91901</td>\n",
       "      <td>8E - Tavern Rd (go South) - S Grade (go East) ...</td>\n",
       "      <td>None</td>\n",
       "      <td>Rancho Palo Verde</td>\n",
       "    </tr>\n",
       "    <tr>\n",
       "      <th>94431</th>\n",
       "      <td>5702</td>\n",
       "      <td>None</td>\n",
       "      <td>Yearling Court</td>\n",
       "      <td>San Diego</td>\n",
       "      <td>CA</td>\n",
       "      <td>91902</td>\n",
       "      <td>Cross Street: Corral Canyon Road.</td>\n",
       "      <td>Bonita</td>\n",
       "      <td>Bonita</td>\n",
       "    </tr>\n",
       "  </tbody>\n",
       "</table>\n",
       "</div>"
      ],
      "text/plain": [
       "       streetnumber streetdirprefix      streetname       city state   zip5  \\\n",
       "161619         2626            None    Coronado Ave  San Diego    CA  88888   \n",
       "8375           2626            None    Coronado Ave  San Diego    CA  88888   \n",
       "7005           3033            None    Via Asoleado  San Diego    CA  91901   \n",
       "109040         1915            None     Ranchito Ln  San Diego    CA  91901   \n",
       "5226           2123            None       DELAND CT  San Diego    CA  91901   \n",
       "90720          2123            None       DELAND CT  San Diego    CA  91901   \n",
       "158224         1915            None     Ranchito Ln  San Diego    CA  91901   \n",
       "12300          1434            None     Marshall Rd  San Diego    CA  91901   \n",
       "58473          3033            None    Via Asoleado  San Diego    CA  91901   \n",
       "94431          5702            None  Yearling Court  San Diego    CA  91902   \n",
       "\n",
       "                                               directions  \\\n",
       "161619  I-5 south, exit on Coronado Ave, left turn Cro...   \n",
       "8375           I-5 south, exit on Coronado Ave, left turn   \n",
       "7005    8E - Tavern Rd (go South) - S Grade (go East) ...   \n",
       "109040                                               None   \n",
       "5226                    S Grade to Deland Dr to Deland Ct   \n",
       "90720   S Grade to Deland Dr to Deland Ct Cross Street...   \n",
       "158224                     Cross Street: Alpine Heights.    \n",
       "12300                         Cross Street: Alpine Blvd.    \n",
       "58473   8E - Tavern Rd (go South) - S Grade (go East) ...   \n",
       "94431                  Cross Street: Corral Canyon Road.    \n",
       "\n",
       "                          cmplx          neighborhd  \n",
       "161619                 South Sd            South Sd  \n",
       "8375    Helena Mobile Home Park  Helena Mobile Park  \n",
       "7005          Rancho Palo Verde              Alpine  \n",
       "109040                     None              Alpine  \n",
       "5226                       None              Alpine  \n",
       "90720                    Alpine              Alpine  \n",
       "158224                   Alpine              Alpine  \n",
       "12300                    Alpine              Alpine  \n",
       "58473                      None   Rancho Palo Verde  \n",
       "94431                    Bonita              Bonita  "
      ]
     },
     "execution_count": 74,
     "metadata": {},
     "output_type": "execute_result"
    }
   ],
   "source": [
    "df.sort_values(by=['zip5'])[:10]"
   ]
  },
  {
   "cell_type": "code",
   "execution_count": 162,
   "metadata": {},
   "outputs": [],
   "source": [
    "import tensorflow as tf\n",
    "import numpy as np"
   ]
  },
  {
   "cell_type": "code",
   "execution_count": 84,
   "metadata": {},
   "outputs": [],
   "source": [
    "df2 = df['streetnumber'].map(lambda s: '{!s:6.6}'.format(str(s))) + ' ' + df['streetname'].map(lambda s: '{!s:20.20}'.format(s)) + ' ' + df['city'] + ' ' + df['zip5']"
   ]
  },
  {
   "cell_type": "code",
   "execution_count": 87,
   "metadata": {},
   "outputs": [
    {
     "data": {
      "text/plain": [
       "0    6314   Friars Road          San Diego 92108\n",
       "1    4482   59th Street          San Diego 92115\n",
       "2    3453   60th St.             San Diego 92115\n",
       "3    2150   Camino De La Reina   San Diego 92108\n",
       "4    5474   Caminito Exquisito   San Diego 92130\n",
       "5    10993  Caminito Arcada      San Diego 92131\n",
       "6    4540   Wilson Avenue        San Diego 92116\n",
       "7    3985   Wabaska Drive        San Diego 92107\n",
       "dtype: object"
      ]
     },
     "execution_count": 87,
     "metadata": {},
     "output_type": "execute_result"
    }
   ],
   "source": [
    "df2[:8]"
   ]
  },
  {
   "cell_type": "code",
   "execution_count": 94,
   "metadata": {},
   "outputs": [],
   "source": [
    "df3 = df2.map(lambda s: list(map(ord, list(s))))"
   ]
  },
  {
   "cell_type": "code",
   "execution_count": 96,
   "metadata": {},
   "outputs": [
    {
     "data": {
      "text/plain": [
       "0    [54, 51, 49, 52, 32, 32, 32, 70, 114, 105, 97,...\n",
       "1    [52, 52, 56, 50, 32, 32, 32, 53, 57, 116, 104,...\n",
       "2    [51, 52, 53, 51, 32, 32, 32, 54, 48, 116, 104,...\n",
       "3    [50, 49, 53, 48, 32, 32, 32, 67, 97, 109, 105,...\n",
       "4    [53, 52, 55, 52, 32, 32, 32, 67, 97, 109, 105,...\n",
       "5    [49, 48, 57, 57, 51, 32, 32, 67, 97, 109, 105,...\n",
       "6    [52, 53, 52, 48, 32, 32, 32, 87, 105, 108, 115...\n",
       "7    [51, 57, 56, 53, 32, 32, 32, 87, 97, 98, 97, 1...\n",
       "dtype: object"
      ]
     },
     "execution_count": 96,
     "metadata": {},
     "output_type": "execute_result"
    }
   ],
   "source": [
    "df3[:8]"
   ]
  },
  {
   "cell_type": "code",
   "execution_count": 158,
   "metadata": {},
   "outputs": [],
   "source": [
    "N_CODES = 128\n",
    "def maprow(row):\n",
    "    sess = tf.Session()\n",
    "    v = sess.run(tf.one_hot(row, N_CODES))\n",
    "    return [flatten for sub in v for flatten in sub]\n",
    "    "
   ]
  },
  {
   "cell_type": "code",
   "execution_count": 143,
   "metadata": {},
   "outputs": [
    {
     "data": {
      "text/plain": [
       "0    [0.0, 0.0, 0.0, 0.0, 0.0, 0.0, 0.0, 0.0, 0.0, ...\n",
       "1    [0.0, 0.0, 0.0, 0.0, 0.0, 0.0, 0.0, 0.0, 0.0, ...\n",
       "2    [0.0, 0.0, 0.0, 0.0, 0.0, 0.0, 0.0, 0.0, 0.0, ...\n",
       "3    [0.0, 0.0, 0.0, 0.0, 0.0, 0.0, 0.0, 0.0, 0.0, ...\n",
       "4    [0.0, 0.0, 0.0, 0.0, 0.0, 0.0, 0.0, 0.0, 0.0, ...\n",
       "5    [0.0, 0.0, 0.0, 0.0, 0.0, 0.0, 0.0, 0.0, 0.0, ...\n",
       "6    [0.0, 0.0, 0.0, 0.0, 0.0, 0.0, 0.0, 0.0, 0.0, ...\n",
       "7    [0.0, 0.0, 0.0, 0.0, 0.0, 0.0, 0.0, 0.0, 0.0, ...\n",
       "8    [0.0, 0.0, 0.0, 0.0, 0.0, 0.0, 0.0, 0.0, 0.0, ...\n",
       "9    [0.0, 0.0, 0.0, 0.0, 0.0, 0.0, 0.0, 0.0, 0.0, ...\n",
       "dtype: object"
      ]
     },
     "execution_count": 143,
     "metadata": {},
     "output_type": "execute_result"
    }
   ],
   "source": [
    "train_inputs = df3[:10].map(maprow)\n",
    "train_inputs"
   ]
  },
  {
   "cell_type": "code",
   "execution_count": 160,
   "metadata": {},
   "outputs": [
    {
     "data": {
      "text/plain": [
       "5504"
      ]
     },
     "execution_count": 160,
     "metadata": {},
     "output_type": "execute_result"
    }
   ],
   "source": [
    "train_labels = train_inputs\n",
    "len(train_inputs[0])"
   ]
  },
  {
   "cell_type": "code",
   "execution_count": 149,
   "metadata": {},
   "outputs": [],
   "source": [
    "X = tf.placeholder(tf.float32, shape=[1, len(train_inputs[0])])\n",
    "Y = tf.placeholder(tf.float32, shape=[1, len(train_labels[0])])"
   ]
  },
  {
   "cell_type": "code",
   "execution_count": 150,
   "metadata": {},
   "outputs": [],
   "source": [
    "HIDDEN=10\n",
    "parameters = {\n",
    "\t\t'W1': tf.Variable(tf.random_normal([len(train_inputs[0]), HIDDEN])),\n",
    "\t\t'b1': tf.Variable(tf.random_normal([HIDDEN])),\n",
    "\t\t'W2': tf.Variable(tf.random_normal([HIDDEN, len(train_labels[0])])),\n",
    "\t\t'b2': tf.Variable(tf.random_normal([len(train_labels[0])]))\n",
    "}"
   ]
  },
  {
   "cell_type": "code",
   "execution_count": null,
   "metadata": {},
   "outputs": [],
   "source": [
    "num_epochs = 2000\n",
    "learning_rate = 0.0005"
   ]
  },
  {
   "cell_type": "code",
   "execution_count": 154,
   "metadata": {},
   "outputs": [],
   "source": [
    "def neural_net(X,parameters):\n",
    "\tZ1 = tf.add(tf.matmul(X, parameters['W1']), parameters['b1'])\n",
    "\tA2 = tf.nn.relu(Z1)\n",
    "\tZ2 = tf.add(tf.matmul(A2, parameters['W2']), parameters['b2'])\n",
    "\treturn Z2"
   ]
  },
  {
   "cell_type": "code",
   "execution_count": 165,
   "metadata": {},
   "outputs": [],
   "source": [
    "def train(X):\n",
    "    SAMPLES = len(train_inputs)\n",
    "    INPUT_VAR_CODES = len(train_inputs[0])\n",
    "    INPUT_VARS = INPUT_VAR_CODES // N_CODES\n",
    "    OUTPUT_VAR_CODES = len(train_labels[0])\n",
    "    OUTPUT_VARS = OUTPUT_VAR_CODES // N_CODES\n",
    "    Z = neural_net(X,parameters)\n",
    "    costs = []\n",
    "    optimizers = []\n",
    "    for i in range(OUTPUT_VARS):\n",
    "        c = Z[0][N_CODES*i:N_CODES*i+N_CODES]\n",
    "        costs.append(tf.reduce_mean(tf.nn.softmax_cross_entropy_with_logits(logits=c,  labels=Y[0][N_CODES*i:N_CODES*i+N_CODES])))\n",
    "        optimizer_k = optimizers.append(tf.train.AdamOptimizer(learning_rate=learning_rate).minimize(costs[i]))\n",
    "    optimizer = tf.group(*optimizers)\n",
    "    tf.Print('costs:',costs)\n",
    "    cost = tf.reduce_sum(costs)\n",
    "    print(costs)\n",
    "    optimizer = tf.train.AdamOptimizer(learning_rate=learning_rate).minimize(cost)\n",
    "    init = tf.global_variables_initializer()\n",
    "    saver = tf.train.Saver()\n",
    "\n",
    "    with tf.Session() as sess:\n",
    "        sess.run(init)\n",
    "        epoch = 0\n",
    "        while epoch<num_epochs:\n",
    "            for i in range(SAMPLES):\n",
    "                _ , c = sess.run([optimizer, cost], feed_dict={\n",
    "                    X: np.reshape(train_inputs[i],[1,INPUT_VAR_CODES]), \n",
    "                    Y: np.reshape(train_labels[i],[1,OUTPUT_VAR_CODES])\n",
    "                }) \n",
    "                if c <= 0.000001:\n",
    "                    saver.save(sess, '{}\\\\model.ckpt'.format(dir_path))\n",
    "                    epoch = num_epochs\n",
    "                    break\n",
    "            if epoch % 200 == 0:\n",
    "                print (\"Cost after epoch %i: %f\" % (epoch+200, c))\n",
    "            epoch += 1\n",
    "\n",
    "    # Test predictions by computing the output using training set as input\n",
    "    with tf.Session() as sess:\n",
    "        sess.run(init)\n",
    "        saver = tf.train.import_meta_graph('model.ckpt.meta')\n",
    "        saver.restore(sess,'model.ckpt')\n",
    "        for row in range(len(train_inputs)):\n",
    "\n",
    "            g = train_inputs[row]\n",
    "            g = np.reshape(g,[1,INPUT_VAR_CODES])\n",
    "            output = neural_net(g,parameters)\n",
    "            outputs = []\n",
    "            for i in range(OUTPUT_VARS):\n",
    "                kk = tf.nn.softmax(output[0][N_CODES*i : N_CODES*i+N_CODES])\n",
    "                outputs.append(kk)\n",
    "                \n",
    "            \n",
    "            out = sess.run(outputs)\n",
    "            out = np.reshape(list(map(list,out)), [1, OUTPUT_VAR_CODES])[0].tolist()\n",
    "            out = list(map(lambda x: float(\"%.1f\" % x), out))\n",
    "            print(\"\\nROW #\" + str(row))\n",
    "            print(\"Expected: \" + str(train_labels[row]))\n",
    "            row = row + 1\n",
    "            print(\"Actual..: \" + str(out))"
   ]
  },
  {
   "cell_type": "code",
   "execution_count": null,
   "metadata": {},
   "outputs": [
    {
     "name": "stdout",
     "output_type": "stream",
     "text": [
      "[<tf.Tensor 'Mean_86:0' shape=() dtype=float32>, <tf.Tensor 'Mean_87:0' shape=() dtype=float32>, <tf.Tensor 'Mean_88:0' shape=() dtype=float32>, <tf.Tensor 'Mean_89:0' shape=() dtype=float32>, <tf.Tensor 'Mean_90:0' shape=() dtype=float32>, <tf.Tensor 'Mean_91:0' shape=() dtype=float32>, <tf.Tensor 'Mean_92:0' shape=() dtype=float32>, <tf.Tensor 'Mean_93:0' shape=() dtype=float32>, <tf.Tensor 'Mean_94:0' shape=() dtype=float32>, <tf.Tensor 'Mean_95:0' shape=() dtype=float32>, <tf.Tensor 'Mean_96:0' shape=() dtype=float32>, <tf.Tensor 'Mean_97:0' shape=() dtype=float32>, <tf.Tensor 'Mean_98:0' shape=() dtype=float32>, <tf.Tensor 'Mean_99:0' shape=() dtype=float32>, <tf.Tensor 'Mean_100:0' shape=() dtype=float32>, <tf.Tensor 'Mean_101:0' shape=() dtype=float32>, <tf.Tensor 'Mean_102:0' shape=() dtype=float32>, <tf.Tensor 'Mean_103:0' shape=() dtype=float32>, <tf.Tensor 'Mean_104:0' shape=() dtype=float32>, <tf.Tensor 'Mean_105:0' shape=() dtype=float32>, <tf.Tensor 'Mean_106:0' shape=() dtype=float32>, <tf.Tensor 'Mean_107:0' shape=() dtype=float32>, <tf.Tensor 'Mean_108:0' shape=() dtype=float32>, <tf.Tensor 'Mean_109:0' shape=() dtype=float32>, <tf.Tensor 'Mean_110:0' shape=() dtype=float32>, <tf.Tensor 'Mean_111:0' shape=() dtype=float32>, <tf.Tensor 'Mean_112:0' shape=() dtype=float32>, <tf.Tensor 'Mean_113:0' shape=() dtype=float32>, <tf.Tensor 'Mean_114:0' shape=() dtype=float32>, <tf.Tensor 'Mean_115:0' shape=() dtype=float32>, <tf.Tensor 'Mean_116:0' shape=() dtype=float32>, <tf.Tensor 'Mean_117:0' shape=() dtype=float32>, <tf.Tensor 'Mean_118:0' shape=() dtype=float32>, <tf.Tensor 'Mean_119:0' shape=() dtype=float32>, <tf.Tensor 'Mean_120:0' shape=() dtype=float32>, <tf.Tensor 'Mean_121:0' shape=() dtype=float32>, <tf.Tensor 'Mean_122:0' shape=() dtype=float32>, <tf.Tensor 'Mean_123:0' shape=() dtype=float32>, <tf.Tensor 'Mean_124:0' shape=() dtype=float32>, <tf.Tensor 'Mean_125:0' shape=() dtype=float32>, <tf.Tensor 'Mean_126:0' shape=() dtype=float32>, <tf.Tensor 'Mean_127:0' shape=() dtype=float32>, <tf.Tensor 'Mean_128:0' shape=() dtype=float32>]\n",
      "Cost after epoch 200: 1286.767822\n",
      "Cost after epoch 400: 132.213013\n",
      "Cost after epoch 600: 56.757755\n",
      "Cost after epoch 800: 24.752691\n",
      "Cost after epoch 1000: 8.136580\n"
     ]
    }
   ],
   "source": [
    "train(X)"
   ]
  },
  {
   "cell_type": "code",
   "execution_count": null,
   "metadata": {},
   "outputs": [],
   "source": []
  }
 ],
 "metadata": {
  "kernelspec": {
   "display_name": "conda_tensorflow_p36",
   "language": "python",
   "name": "conda_tensorflow_p36"
  },
  "language_info": {
   "codemirror_mode": {
    "name": "ipython",
    "version": 3
   },
   "file_extension": ".py",
   "mimetype": "text/x-python",
   "name": "python",
   "nbconvert_exporter": "python",
   "pygments_lexer": "ipython3",
   "version": "3.6.5"
  }
 },
 "nbformat": 4,
 "nbformat_minor": 4
}
