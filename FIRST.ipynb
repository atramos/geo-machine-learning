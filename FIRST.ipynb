{
 "cells": [
  {
   "cell_type": "code",
   "execution_count": 1,
   "metadata": {},
   "outputs": [
    {
     "name": "stdout",
     "output_type": "stream",
     "text": [
      "Requirement already satisfied: PyAthena in /home/ec2-user/anaconda3/envs/tensorflow_p36/lib/python3.6/site-packages (1.7.1)\n",
      "Requirement already satisfied: botocore>=1.5.52 in /home/ec2-user/anaconda3/envs/tensorflow_p36/lib/python3.6/site-packages (from PyAthena) (1.12.232)\n",
      "Requirement already satisfied: future in /home/ec2-user/anaconda3/envs/tensorflow_p36/lib/python3.6/site-packages (from PyAthena) (0.17.1)\n",
      "Requirement already satisfied: boto3>=1.4.4 in /home/ec2-user/anaconda3/envs/tensorflow_p36/lib/python3.6/site-packages (from PyAthena) (1.9.232)\n",
      "Requirement already satisfied: tenacity>=4.1.0 in /home/ec2-user/anaconda3/envs/tensorflow_p36/lib/python3.6/site-packages (from PyAthena) (5.1.1)\n",
      "Requirement already satisfied: jmespath<1.0.0,>=0.7.1 in /home/ec2-user/anaconda3/envs/tensorflow_p36/lib/python3.6/site-packages (from botocore>=1.5.52->PyAthena) (0.9.4)\n",
      "Requirement already satisfied: python-dateutil<3.0.0,>=2.1; python_version >= \"2.7\" in /home/ec2-user/anaconda3/envs/tensorflow_p36/lib/python3.6/site-packages (from botocore>=1.5.52->PyAthena) (2.7.3)\n",
      "Requirement already satisfied: docutils<0.16,>=0.10 in /home/ec2-user/anaconda3/envs/tensorflow_p36/lib/python3.6/site-packages (from botocore>=1.5.52->PyAthena) (0.14)\n",
      "Requirement already satisfied: urllib3<1.26,>=1.20; python_version >= \"3.4\" in /home/ec2-user/anaconda3/envs/tensorflow_p36/lib/python3.6/site-packages (from botocore>=1.5.52->PyAthena) (1.23)\n",
      "Requirement already satisfied: s3transfer<0.3.0,>=0.2.0 in /home/ec2-user/anaconda3/envs/tensorflow_p36/lib/python3.6/site-packages (from boto3>=1.4.4->PyAthena) (0.2.1)\n",
      "Requirement already satisfied: six>=1.9.0 in /home/ec2-user/anaconda3/envs/tensorflow_p36/lib/python3.6/site-packages (from tenacity>=4.1.0->PyAthena) (1.11.0)\n",
      "\u001b[33mYou are using pip version 10.0.1, however version 19.2.3 is available.\n",
      "You should consider upgrading via the 'pip install --upgrade pip' command.\u001b[0m\n"
     ]
    }
   ],
   "source": [
    "import sys\n",
    "!{sys.executable} -m pip install PyAthena\n"
   ]
  },
  {
   "cell_type": "code",
   "execution_count": 2,
   "metadata": {},
   "outputs": [],
   "source": [
    "from pyathena import connect\n",
    "import pandas as pd\n",
    "conn = connect(s3_staging_dir='s3://aws-athena-query-results-984073016564-us-west-2/sagemaker', region_name='us-west-2')\n",
    "df = pd.read_sql(\"SELECT distinct * FROM retsdata.union_geo3 WHERE county = 'San Diego'\", conn)"
   ]
  },
  {
   "cell_type": "code",
   "execution_count": 3,
   "metadata": {},
   "outputs": [
    {
     "data": {
      "text/plain": [
       "473450"
      ]
     },
     "execution_count": 3,
     "metadata": {},
     "output_type": "execute_result"
    }
   ],
   "source": [
    "len(df)"
   ]
  },
  {
   "cell_type": "code",
   "execution_count": 4,
   "metadata": {},
   "outputs": [
    {
     "data": {
      "text/html": [
       "<div>\n",
       "<style scoped>\n",
       "    .dataframe tbody tr th:only-of-type {\n",
       "        vertical-align: middle;\n",
       "    }\n",
       "\n",
       "    .dataframe tbody tr th {\n",
       "        vertical-align: top;\n",
       "    }\n",
       "\n",
       "    .dataframe thead th {\n",
       "        text-align: right;\n",
       "    }\n",
       "</style>\n",
       "<table border=\"1\" class=\"dataframe\">\n",
       "  <thead>\n",
       "    <tr style=\"text-align: right;\">\n",
       "      <th></th>\n",
       "      <th>streetnumber</th>\n",
       "      <th>streetdirprefix</th>\n",
       "      <th>streetname</th>\n",
       "      <th>city</th>\n",
       "      <th>state</th>\n",
       "      <th>zip5</th>\n",
       "      <th>directions</th>\n",
       "      <th>cmplx</th>\n",
       "      <th>neighborhd</th>\n",
       "      <th>county</th>\n",
       "    </tr>\n",
       "  </thead>\n",
       "  <tbody>\n",
       "    <tr>\n",
       "      <th>0</th>\n",
       "      <td>7745</td>\n",
       "      <td>None</td>\n",
       "      <td>Northern Lights</td>\n",
       "      <td>San Diego</td>\n",
       "      <td>CA</td>\n",
       "      <td>92127</td>\n",
       "      <td>Cross Street: Encendido.</td>\n",
       "      <td>Santaluz</td>\n",
       "      <td>Santaluz</td>\n",
       "      <td>San Diego</td>\n",
       "    </tr>\n",
       "    <tr>\n",
       "      <th>1</th>\n",
       "      <td>14859</td>\n",
       "      <td>None</td>\n",
       "      <td>Fox Hunt Lane</td>\n",
       "      <td>San Diego</td>\n",
       "      <td>CA</td>\n",
       "      <td>92128</td>\n",
       "      <td>Cross Street: Heather Glen.</td>\n",
       "      <td>Carmel Mountain Ranch</td>\n",
       "      <td>Carmel Mountain Ranch</td>\n",
       "      <td>San Diego</td>\n",
       "    </tr>\n",
       "    <tr>\n",
       "      <th>2</th>\n",
       "      <td>11342</td>\n",
       "      <td>None</td>\n",
       "      <td>Turtleback Ln</td>\n",
       "      <td>San Diego</td>\n",
       "      <td>CA</td>\n",
       "      <td>92127</td>\n",
       "      <td>Bernardo Center- Cloudcrest Dr- L to Turtlebac...</td>\n",
       "      <td>High Country West</td>\n",
       "      <td>Rancho Bernardo</td>\n",
       "      <td>San Diego</td>\n",
       "    </tr>\n",
       "    <tr>\n",
       "      <th>3</th>\n",
       "      <td>2544</td>\n",
       "      <td>None</td>\n",
       "      <td>Navarra Dr.</td>\n",
       "      <td>Carlsbad</td>\n",
       "      <td>CA</td>\n",
       "      <td>92009</td>\n",
       "      <td>Take La Costa Ave. East * Left on Viejo Castil...</td>\n",
       "      <td>La Costa Fairways</td>\n",
       "      <td>Carlsbad South</td>\n",
       "      <td>San Diego</td>\n",
       "    </tr>\n",
       "    <tr>\n",
       "      <th>4</th>\n",
       "      <td>7923</td>\n",
       "      <td>None</td>\n",
       "      <td>Avenida Diestro</td>\n",
       "      <td>Carlsbad</td>\n",
       "      <td>CA</td>\n",
       "      <td>92009</td>\n",
       "      <td>RSF Rd/East on Camino de la Coches/R on Terazz...</td>\n",
       "      <td>La Costa</td>\n",
       "      <td>La Costa</td>\n",
       "      <td>San Diego</td>\n",
       "    </tr>\n",
       "    <tr>\n",
       "      <th>5</th>\n",
       "      <td>5038</td>\n",
       "      <td>None</td>\n",
       "      <td>Via Papel</td>\n",
       "      <td>San Diego</td>\n",
       "      <td>CA</td>\n",
       "      <td>92122</td>\n",
       "      <td>Governor Drive, south on Lakewood, left on Via...</td>\n",
       "      <td>University City</td>\n",
       "      <td>University City</td>\n",
       "      <td>San Diego</td>\n",
       "    </tr>\n",
       "    <tr>\n",
       "      <th>6</th>\n",
       "      <td>4822</td>\n",
       "      <td>None</td>\n",
       "      <td>Mount Almagosa Dr</td>\n",
       "      <td>San Diego</td>\n",
       "      <td>CA</td>\n",
       "      <td>92111</td>\n",
       "      <td>From the 5 freeway head East on Balboa Ave, Ri...</td>\n",
       "      <td>Clairemont</td>\n",
       "      <td>Clairemont</td>\n",
       "      <td>San Diego</td>\n",
       "    </tr>\n",
       "    <tr>\n",
       "      <th>7</th>\n",
       "      <td>1645</td>\n",
       "      <td>None</td>\n",
       "      <td>Haydn Dr and Summit Ave</td>\n",
       "      <td>Cardiff by the Sea</td>\n",
       "      <td>CA</td>\n",
       "      <td>92007</td>\n",
       "      <td>Cross Street: Liszt Ave.</td>\n",
       "      <td>Composer District</td>\n",
       "      <td>Cardiff By The Sea</td>\n",
       "      <td>San Diego</td>\n",
       "    </tr>\n",
       "    <tr>\n",
       "      <th>8</th>\n",
       "      <td>2078</td>\n",
       "      <td>None</td>\n",
       "      <td>James Gaynor St</td>\n",
       "      <td>Fallbrook</td>\n",
       "      <td>CA</td>\n",
       "      <td>92028</td>\n",
       "      <td>Cross Street: Tom McGuiness Jr. Cir.</td>\n",
       "      <td>Fallbrook</td>\n",
       "      <td>Fallbrook</td>\n",
       "      <td>San Diego</td>\n",
       "    </tr>\n",
       "    <tr>\n",
       "      <th>9</th>\n",
       "      <td>614</td>\n",
       "      <td>None</td>\n",
       "      <td>Dorothy St</td>\n",
       "      <td>El Cajon</td>\n",
       "      <td>CA</td>\n",
       "      <td>92019</td>\n",
       "      <td>Cross Street: Washington.</td>\n",
       "      <td>Granite Hills</td>\n",
       "      <td>El Cajon</td>\n",
       "      <td>San Diego</td>\n",
       "    </tr>\n",
       "  </tbody>\n",
       "</table>\n",
       "</div>"
      ],
      "text/plain": [
       "  streetnumber streetdirprefix               streetname                city  \\\n",
       "0         7745            None          Northern Lights           San Diego   \n",
       "1        14859            None            Fox Hunt Lane           San Diego   \n",
       "2        11342            None            Turtleback Ln           San Diego   \n",
       "3         2544            None              Navarra Dr.            Carlsbad   \n",
       "4         7923            None          Avenida Diestro            Carlsbad   \n",
       "5         5038            None                Via Papel           San Diego   \n",
       "6         4822            None        Mount Almagosa Dr           San Diego   \n",
       "7         1645            None  Haydn Dr and Summit Ave  Cardiff by the Sea   \n",
       "8         2078            None          James Gaynor St           Fallbrook   \n",
       "9          614            None               Dorothy St            El Cajon   \n",
       "\n",
       "  state   zip5                                         directions  \\\n",
       "0    CA  92127                          Cross Street: Encendido.    \n",
       "1    CA  92128                       Cross Street: Heather Glen.    \n",
       "2    CA  92127  Bernardo Center- Cloudcrest Dr- L to Turtlebac...   \n",
       "3    CA  92009  Take La Costa Ave. East * Left on Viejo Castil...   \n",
       "4    CA  92009  RSF Rd/East on Camino de la Coches/R on Terazz...   \n",
       "5    CA  92122  Governor Drive, south on Lakewood, left on Via...   \n",
       "6    CA  92111  From the 5 freeway head East on Balboa Ave, Ri...   \n",
       "7    CA  92007                          Cross Street: Liszt Ave.    \n",
       "8    CA  92028              Cross Street: Tom McGuiness Jr. Cir.    \n",
       "9    CA  92019                         Cross Street: Washington.    \n",
       "\n",
       "                   cmplx             neighborhd     county  \n",
       "0               Santaluz               Santaluz  San Diego  \n",
       "1  Carmel Mountain Ranch  Carmel Mountain Ranch  San Diego  \n",
       "2      High Country West        Rancho Bernardo  San Diego  \n",
       "3      La Costa Fairways         Carlsbad South  San Diego  \n",
       "4               La Costa               La Costa  San Diego  \n",
       "5        University City        University City  San Diego  \n",
       "6             Clairemont             Clairemont  San Diego  \n",
       "7      Composer District     Cardiff By The Sea  San Diego  \n",
       "8              Fallbrook              Fallbrook  San Diego  \n",
       "9          Granite Hills               El Cajon  San Diego  "
      ]
     },
     "execution_count": 4,
     "metadata": {},
     "output_type": "execute_result"
    }
   ],
   "source": [
    "df[:10]"
   ]
  },
  {
   "cell_type": "code",
   "execution_count": 5,
   "metadata": {},
   "outputs": [],
   "source": [
    "import tensorflow as tf\n",
    "import numpy as np"
   ]
  },
  {
   "cell_type": "code",
   "execution_count": 6,
   "metadata": {},
   "outputs": [],
   "source": [
    "def pad(df):\n",
    "    return (df['streetnumber'].map(lambda s: '{!s:6.6}'.format(str(s))) + ' ' + \n",
    "       df['streetname'].map(lambda s: '{!s:20.20}'.format(s).upper()) + ' ' + \n",
    "       df['city'].map(lambda s: '{!s:16.16}'.format(s).upper()))\n",
    "\n",
    "df_train   = pad(df.loc[df['zip5'] != '0'])\n",
    "df_labels  = df['zip5'].map(str)\n",
    "df_predict = pad(df.loc[df['zip5'] == '0'])"
   ]
  },
  {
   "cell_type": "code",
   "execution_count": 7,
   "metadata": {},
   "outputs": [
    {
     "data": {
      "text/plain": [
       "0    7745   NORTHERN LIGHTS      SAN DIEGO       \n",
       "1    14859  FOX HUNT LANE        SAN DIEGO       \n",
       "2    11342  TURTLEBACK LN        SAN DIEGO       \n",
       "3    2544   NAVARRA DR.          CARLSBAD        \n",
       "4    7923   AVENIDA DIESTRO      CARLSBAD        \n",
       "5    5038   VIA PAPEL            SAN DIEGO       \n",
       "6    4822   MOUNT ALMAGOSA DR    SAN DIEGO       \n",
       "7    1645   HAYDN DR AND SUMMIT  CARDIFF BY THE S\n",
       "8    2078   JAMES GAYNOR ST      FALLBROOK       \n",
       "9    614    DOROTHY ST           EL CAJON        \n",
       "dtype: object"
      ]
     },
     "execution_count": 7,
     "metadata": {},
     "output_type": "execute_result"
    }
   ],
   "source": [
    "df_train[:10]"
   ]
  },
  {
   "cell_type": "code",
   "execution_count": 8,
   "metadata": {},
   "outputs": [
    {
     "data": {
      "text/plain": [
       "0    92127\n",
       "1    92128\n",
       "2    92127\n",
       "3    92009\n",
       "4    92009\n",
       "5    92122\n",
       "6    92111\n",
       "7    92007\n",
       "8    92028\n",
       "9    92019\n",
       "Name: zip5, dtype: object"
      ]
     },
     "execution_count": 8,
     "metadata": {},
     "output_type": "execute_result"
    }
   ],
   "source": [
    "df_labels[:10]"
   ]
  },
  {
   "cell_type": "code",
   "execution_count": 9,
   "metadata": {},
   "outputs": [
    {
     "data": {
      "text/plain": [
       "Series([], dtype: object)"
      ]
     },
     "execution_count": 9,
     "metadata": {},
     "output_type": "execute_result"
    }
   ],
   "source": [
    "df_predict[:10]"
   ]
  },
  {
   "cell_type": "code",
   "execution_count": 10,
   "metadata": {},
   "outputs": [
    {
     "data": {
      "text/plain": [
       "0    7745   NORTHERN LIGHTS      SAN DIEGO       \n",
       "1    14859  FOX HUNT LANE        SAN DIEGO       \n",
       "2    11342  TURTLEBACK LN        SAN DIEGO       \n",
       "dtype: object"
      ]
     },
     "execution_count": 10,
     "metadata": {},
     "output_type": "execute_result"
    }
   ],
   "source": [
    "df_train[:3]"
   ]
  },
  {
   "cell_type": "code",
   "execution_count": 11,
   "metadata": {},
   "outputs": [],
   "source": [
    "N_CODES = 128\n",
    "\n",
    "def encode(df):\n",
    "    sess = tf.Session()\n",
    "    v = df.map(lambda s: list(map(ord, list(s)))).values.tolist()\n",
    "    v = sess.run(list(map(lambda row: tf.one_hot(row, N_CODES), v)))\n",
    "    v = list(map(lambda v: [flatten for sub in v for flatten in sub], v))\n",
    "    return pd.Series(v)\n",
    "    "
   ]
  },
  {
   "cell_type": "code",
   "execution_count": 12,
   "metadata": {},
   "outputs": [
    {
     "data": {
      "text/plain": [
       "0    [0.0, 0.0, 0.0, 0.0, 0.0, 0.0, 0.0, 0.0, 0.0, ...\n",
       "1    [0.0, 0.0, 0.0, 0.0, 0.0, 0.0, 0.0, 0.0, 0.0, ...\n",
       "2    [0.0, 0.0, 0.0, 0.0, 0.0, 0.0, 0.0, 0.0, 0.0, ...\n",
       "dtype: object"
      ]
     },
     "execution_count": 12,
     "metadata": {},
     "output_type": "execute_result"
    }
   ],
   "source": [
    "encode(df_train[:3])"
   ]
  },
  {
   "cell_type": "code",
   "execution_count": 13,
   "metadata": {},
   "outputs": [],
   "source": [
    "SUBSET=1000\n",
    "train_inputs = encode(df_train[:SUBSET])"
   ]
  },
  {
   "cell_type": "code",
   "execution_count": 14,
   "metadata": {},
   "outputs": [
    {
     "data": {
      "text/plain": [
       "0    [0.0, 0.0, 0.0, 0.0, 0.0, 0.0, 0.0, 0.0, 0.0, ...\n",
       "1    [0.0, 0.0, 0.0, 0.0, 0.0, 0.0, 0.0, 0.0, 0.0, ...\n",
       "2    [0.0, 0.0, 0.0, 0.0, 0.0, 0.0, 0.0, 0.0, 0.0, ...\n",
       "dtype: object"
      ]
     },
     "execution_count": 14,
     "metadata": {},
     "output_type": "execute_result"
    }
   ],
   "source": [
    "train_inputs[:3]"
   ]
  },
  {
   "cell_type": "code",
   "execution_count": 15,
   "metadata": {},
   "outputs": [
    {
     "data": {
      "text/plain": [
       "0    [0.0, 0.0, 0.0, 0.0, 0.0, 0.0, 0.0, 0.0, 0.0, ...\n",
       "1    [0.0, 0.0, 0.0, 0.0, 0.0, 0.0, 0.0, 0.0, 0.0, ...\n",
       "2    [0.0, 0.0, 0.0, 0.0, 0.0, 0.0, 0.0, 0.0, 0.0, ...\n",
       "dtype: object"
      ]
     },
     "execution_count": 15,
     "metadata": {},
     "output_type": "execute_result"
    }
   ],
   "source": [
    "train_labels = encode(df_labels[:SUBSET])\n",
    "train_labels[:3]"
   ]
  },
  {
   "cell_type": "code",
   "execution_count": 16,
   "metadata": {},
   "outputs": [
    {
     "data": {
      "text/plain": [
       "640"
      ]
     },
     "execution_count": 16,
     "metadata": {},
     "output_type": "execute_result"
    }
   ],
   "source": [
    "len(train_labels[0])"
   ]
  },
  {
   "cell_type": "code",
   "execution_count": 17,
   "metadata": {},
   "outputs": [],
   "source": [
    "SAMPLES = len(train_inputs)\n",
    "INPUT_VAR_CODES = len(train_inputs[0])\n",
    "INPUT_VARS = INPUT_VAR_CODES // N_CODES\n",
    "OUTPUT_VAR_CODES = len(train_labels[0])\n",
    "OUTPUT_VARS = OUTPUT_VAR_CODES // N_CODES"
   ]
  },
  {
   "cell_type": "code",
   "execution_count": 18,
   "metadata": {},
   "outputs": [],
   "source": [
    "X = tf.placeholder(tf.float32, shape=[1, len(train_inputs[0])])\n",
    "Y = tf.placeholder(tf.float32, shape=[1, len(train_labels[0])])"
   ]
  },
  {
   "cell_type": "code",
   "execution_count": 19,
   "metadata": {},
   "outputs": [],
   "source": [
    "HIDDEN=5\n",
    "parameters = {\n",
    "\t\t'W1': tf.Variable(tf.random_normal([len(train_inputs[0]), HIDDEN])),\n",
    "\t\t'b1': tf.Variable(tf.random_normal([HIDDEN])),\n",
    "\t\t'W2': tf.Variable(tf.random_normal([HIDDEN, len(train_labels[0])])),\n",
    "\t\t'b2': tf.Variable(tf.random_normal([len(train_labels[0])]))\n",
    "}"
   ]
  },
  {
   "cell_type": "code",
   "execution_count": 20,
   "metadata": {},
   "outputs": [],
   "source": [
    "num_epochs = 2000\n",
    "learning_rate = 0.0005"
   ]
  },
  {
   "cell_type": "code",
   "execution_count": 21,
   "metadata": {},
   "outputs": [],
   "source": [
    "def neural_net(X,parameters):\n",
    "\tZ1 = tf.add(tf.matmul(X, parameters['W1']), parameters['b1'])\n",
    "\tA2 = tf.nn.relu(Z1)\n",
    "\tZ2 = tf.add(tf.matmul(A2, parameters['W2']), parameters['b2'])\n",
    "\treturn Z2"
   ]
  },
  {
   "cell_type": "code",
   "execution_count": 24,
   "metadata": {},
   "outputs": [],
   "source": [
    "import datetime\n",
    "\n",
    "def train():\n",
    "    print (datetime.datetime.now())\n",
    "    Z = neural_net(X,parameters)\n",
    "    costs = []\n",
    "    optimizers = []\n",
    "    for i in range(OUTPUT_VARS):\n",
    "        c = Z[0][N_CODES*i:N_CODES*i+N_CODES]\n",
    "        costs.append(tf.reduce_mean(tf.nn.softmax_cross_entropy_with_logits(logits=c,  labels=Y[0][N_CODES*i:N_CODES*i+N_CODES])))\n",
    "        optimizer_k = optimizers.append(tf.train.AdamOptimizer(learning_rate=learning_rate).minimize(costs[i]))\n",
    "    optimizer = tf.group(*optimizers)\n",
    "    cost = tf.reduce_sum(costs)\n",
    "    optimizer = tf.train.AdamOptimizer(learning_rate=learning_rate).minimize(cost)\n",
    "    init = tf.global_variables_initializer()\n",
    "    saver = tf.train.Saver()\n",
    "\n",
    "    with tf.Session() as sess:\n",
    "        sess.run(init)\n",
    "        epoch = 0\n",
    "        while epoch<num_epochs:\n",
    "            for i in range(SAMPLES):\n",
    "                _ , c = sess.run([optimizer, cost], feed_dict={\n",
    "                    X: np.reshape(train_inputs[i],[1,INPUT_VAR_CODES]), \n",
    "                    Y: np.reshape(train_labels[i],[1,OUTPUT_VAR_CODES])\n",
    "                }) \n",
    "            print (str(datetime.datetime.now()) +  \" Cost after epoch %i: %f\" % (epoch, c))\n",
    "            epoch += 1\n",
    "        saver.save(sess, 'model.ckpt')\n"
   ]
  },
  {
   "cell_type": "code",
   "execution_count": null,
   "metadata": {},
   "outputs": [
    {
     "name": "stdout",
     "output_type": "stream",
     "text": [
      "2019-09-30 06:35:37.607209\n",
      "2019-09-30 06:35:43.720593 Cost after epoch 0: 21.939651\n",
      "2019-09-30 06:35:47.280504 Cost after epoch 1: 18.651726\n",
      "2019-09-30 06:35:50.849037 Cost after epoch 2: 15.585085\n",
      "2019-09-30 06:35:54.393590 Cost after epoch 3: 12.867194\n",
      "2019-09-30 06:35:57.908330 Cost after epoch 4: 10.600194\n",
      "2019-09-30 06:36:01.469536 Cost after epoch 5: 8.841795\n",
      "2019-09-30 06:36:05.229356 Cost after epoch 6: 7.582443\n",
      "2019-09-30 06:36:08.816782 Cost after epoch 7: 6.734311\n",
      "2019-09-30 06:36:12.353835 Cost after epoch 8: 6.181186\n",
      "2019-09-30 06:36:15.969085 Cost after epoch 9: 5.826673\n",
      "2019-09-30 06:36:19.539582 Cost after epoch 10: 5.601499\n",
      "2019-09-30 06:36:23.104584 Cost after epoch 11: 5.458176\n",
      "2019-09-30 06:36:26.684180 Cost after epoch 12: 5.365606\n",
      "2019-09-30 06:36:30.266886 Cost after epoch 13: 5.304727\n",
      "2019-09-30 06:36:33.920965 Cost after epoch 14: 5.264065\n",
      "2019-09-30 06:36:37.523027 Cost after epoch 15: 5.236790\n",
      "2019-09-30 06:36:41.261310 Cost after epoch 16: 5.218990\n",
      "2019-09-30 06:36:44.941284 Cost after epoch 17: 5.207714\n",
      "2019-09-30 06:36:48.504693 Cost after epoch 18: 5.201467\n",
      "2019-09-30 06:36:52.067728 Cost after epoch 19: 5.197896\n",
      "2019-09-30 06:36:55.639401 Cost after epoch 20: 5.197548\n",
      "2019-09-30 06:36:59.194023 Cost after epoch 21: 5.198688\n",
      "2019-09-30 06:37:02.820940 Cost after epoch 22: 5.200667\n",
      "2019-09-30 06:37:06.651908 Cost after epoch 23: 5.203369\n",
      "2019-09-30 06:37:10.350369 Cost after epoch 24: 5.206220\n",
      "2019-09-30 06:37:14.006584 Cost after epoch 25: 5.209127\n",
      "2019-09-30 06:37:17.613424 Cost after epoch 26: 5.211674\n",
      "2019-09-30 06:37:21.181242 Cost after epoch 27: 5.214123\n",
      "2019-09-30 06:37:24.793439 Cost after epoch 28: 5.216879\n",
      "2019-09-30 06:37:28.379045 Cost after epoch 29: 5.219226\n",
      "2019-09-30 06:37:31.973752 Cost after epoch 30: 5.221261\n"
     ]
    }
   ],
   "source": [
    "train()"
   ]
  },
  {
   "cell_type": "code",
   "execution_count": null,
   "metadata": {},
   "outputs": [],
   "source": [
    "def toheno(onehot):\n",
    "    # reverse the one-hot encoding\n",
    "    calcs = []\n",
    "    for i in range(len(onehot)//N_CODES):\n",
    "        charvec = onehot[N_CODES*i : N_CODES*(i+1)]\n",
    "        calcs.append(tf.argmax(charvec))\n",
    "    with tf.Session() as sess:\n",
    "        out = sess.run(calcs)\n",
    "    return ''.join([chr(i) for i in out])\n",
    "        \n",
    "toheno(train_inputs[0])        "
   ]
  },
  {
   "cell_type": "code",
   "execution_count": null,
   "metadata": {},
   "outputs": [],
   "source": [
    "def test():\n",
    "    # Test predictions by computing the output using training set as input\n",
    "    with tf.Session() as sess:\n",
    "        init = tf.global_variables_initializer()\n",
    "        sess.run(init)\n",
    "        saver = tf.train.import_meta_graph('model.ckpt.meta')\n",
    "        saver.restore(sess,'model.ckpt')\n",
    "        for row in range(len(train_inputs)):\n",
    "\n",
    "            g = train_inputs[row]\n",
    "            g = np.reshape(g,[1,INPUT_VAR_CODES])\n",
    "            output = neural_net(g,parameters)\n",
    "            outputs = []\n",
    "            for i in range(OUTPUT_VARS):\n",
    "                kk = tf.nn.softmax(output[0][N_CODES*i : N_CODES*i+N_CODES])\n",
    "                outputs.append(kk)\n",
    "                \n",
    "            \n",
    "            out = sess.run(outputs)\n",
    "            out = np.reshape(list(map(list,out)), [1, OUTPUT_VAR_CODES])[0].tolist()\n",
    "            out = list(map(lambda x: float(\"%.1f\" % x), out))\n",
    "            \n",
    "            print(\"\\nROW #\" + str(row))\n",
    "            print(\"Expected: \" + toheno(train_labels[row]))\n",
    "            print(\"Actual..: \" + toheno(out))            \n",
    "            row = row + 1\n"
   ]
  },
  {
   "cell_type": "code",
   "execution_count": null,
   "metadata": {},
   "outputs": [],
   "source": [
    "test()"
   ]
  },
  {
   "cell_type": "code",
   "execution_count": null,
   "metadata": {},
   "outputs": [],
   "source": []
  }
 ],
 "metadata": {
  "kernelspec": {
   "display_name": "conda_tensorflow_p36",
   "language": "python",
   "name": "conda_tensorflow_p36"
  },
  "language_info": {
   "codemirror_mode": {
    "name": "ipython",
    "version": 3
   },
   "file_extension": ".py",
   "mimetype": "text/x-python",
   "name": "python",
   "nbconvert_exporter": "python",
   "pygments_lexer": "ipython3",
   "version": "3.6.5"
  }
 },
 "nbformat": 4,
 "nbformat_minor": 4
}
