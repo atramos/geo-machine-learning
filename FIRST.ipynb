{
 "cells": [
  {
   "cell_type": "code",
   "execution_count": 1,
   "metadata": {},
   "outputs": [
    {
     "name": "stdout",
     "output_type": "stream",
     "text": [
      "Collecting PyAthena\n",
      "  Downloading https://files.pythonhosted.org/packages/34/11/20fbc9d9c0825e3c1c7ef9ea7e6489b20f582a24ca05ab023003948034cf/PyAthena-1.7.1-py2.py3-none-any.whl\n",
      "Collecting future (from PyAthena)\n",
      "\u001b[?25l  Downloading https://files.pythonhosted.org/packages/90/52/e20466b85000a181e1e144fd8305caf2cf475e2f9674e797b222f8105f5f/future-0.17.1.tar.gz (829kB)\n",
      "\u001b[K    100% |████████████████████████████████| 829kB 28.0MB/s ta 0:00:01\n",
      "\u001b[?25hRequirement already satisfied: botocore>=1.5.52 in /home/ec2-user/anaconda3/envs/tensorflow_p36/lib/python3.6/site-packages (from PyAthena) (1.12.232)\n",
      "Requirement already satisfied: boto3>=1.4.4 in /home/ec2-user/anaconda3/envs/tensorflow_p36/lib/python3.6/site-packages (from PyAthena) (1.9.232)\n",
      "Collecting tenacity>=4.1.0 (from PyAthena)\n",
      "  Downloading https://files.pythonhosted.org/packages/1e/a1/be8c8610f4620c56790965ba2b564dd76d13cbcd7c2ff8f6053ce63027fb/tenacity-5.1.1-py2.py3-none-any.whl\n",
      "Requirement already satisfied: python-dateutil<3.0.0,>=2.1; python_version >= \"2.7\" in /home/ec2-user/anaconda3/envs/tensorflow_p36/lib/python3.6/site-packages (from botocore>=1.5.52->PyAthena) (2.7.3)\n",
      "Requirement already satisfied: docutils<0.16,>=0.10 in /home/ec2-user/anaconda3/envs/tensorflow_p36/lib/python3.6/site-packages (from botocore>=1.5.52->PyAthena) (0.14)\n",
      "Requirement already satisfied: urllib3<1.26,>=1.20; python_version >= \"3.4\" in /home/ec2-user/anaconda3/envs/tensorflow_p36/lib/python3.6/site-packages (from botocore>=1.5.52->PyAthena) (1.23)\n",
      "Requirement already satisfied: jmespath<1.0.0,>=0.7.1 in /home/ec2-user/anaconda3/envs/tensorflow_p36/lib/python3.6/site-packages (from botocore>=1.5.52->PyAthena) (0.9.4)\n",
      "Requirement already satisfied: s3transfer<0.3.0,>=0.2.0 in /home/ec2-user/anaconda3/envs/tensorflow_p36/lib/python3.6/site-packages (from boto3>=1.4.4->PyAthena) (0.2.1)\n",
      "Requirement already satisfied: six>=1.9.0 in /home/ec2-user/anaconda3/envs/tensorflow_p36/lib/python3.6/site-packages (from tenacity>=4.1.0->PyAthena) (1.11.0)\n",
      "Building wheels for collected packages: future\n",
      "  Running setup.py bdist_wheel for future ... \u001b[?25ldone\n",
      "\u001b[?25h  Stored in directory: /home/ec2-user/.cache/pip/wheels/0c/61/d2/d6b7317325828fbb39ee6ad559dbe4664d0896da4721bf379e\n",
      "Successfully built future\n",
      "Installing collected packages: future, tenacity, PyAthena\n",
      "Successfully installed PyAthena-1.7.1 future-0.17.1 tenacity-5.1.1\n",
      "\u001b[33mYou are using pip version 10.0.1, however version 19.2.3 is available.\n",
      "You should consider upgrading via the 'pip install --upgrade pip' command.\u001b[0m\n"
     ]
    }
   ],
   "source": [
    "import sys\n",
    "!{sys.executable} -m pip install PyAthena\n"
   ]
  },
  {
   "cell_type": "code",
   "execution_count": 2,
   "metadata": {},
   "outputs": [],
   "source": [
    "from pyathena import connect\n",
    "import pandas as pd\n",
    "conn = connect(s3_staging_dir='s3://aws-athena-query-results-984073016564-us-west-2/sagemaker', region_name='us-west-2')\n",
    "df = pd.read_sql(\"SELECT distinct * FROM retsdata.union_geo2 WHERE city = 'San Diego'\", conn)"
   ]
  },
  {
   "cell_type": "code",
   "execution_count": 3,
   "metadata": {},
   "outputs": [
    {
     "data": {
      "text/plain": [
       "168786"
      ]
     },
     "execution_count": 3,
     "metadata": {},
     "output_type": "execute_result"
    }
   ],
   "source": [
    "len(df)"
   ]
  },
  {
   "cell_type": "code",
   "execution_count": 4,
   "metadata": {},
   "outputs": [
    {
     "data": {
      "text/html": [
       "<div>\n",
       "<style scoped>\n",
       "    .dataframe tbody tr th:only-of-type {\n",
       "        vertical-align: middle;\n",
       "    }\n",
       "\n",
       "    .dataframe tbody tr th {\n",
       "        vertical-align: top;\n",
       "    }\n",
       "\n",
       "    .dataframe thead th {\n",
       "        text-align: right;\n",
       "    }\n",
       "</style>\n",
       "<table border=\"1\" class=\"dataframe\">\n",
       "  <thead>\n",
       "    <tr style=\"text-align: right;\">\n",
       "      <th></th>\n",
       "      <th>streetnumber</th>\n",
       "      <th>streetdirprefix</th>\n",
       "      <th>streetname</th>\n",
       "      <th>city</th>\n",
       "      <th>state</th>\n",
       "      <th>zip5</th>\n",
       "      <th>directions</th>\n",
       "      <th>cmplx</th>\n",
       "      <th>neighborhd</th>\n",
       "    </tr>\n",
       "  </thead>\n",
       "  <tbody>\n",
       "    <tr>\n",
       "      <th>26199</th>\n",
       "      <td>2626</td>\n",
       "      <td>None</td>\n",
       "      <td>Coronado Ave</td>\n",
       "      <td>San Diego</td>\n",
       "      <td>CA</td>\n",
       "      <td>88888</td>\n",
       "      <td>I-5 south, exit on Coronado Ave, left turn Cro...</td>\n",
       "      <td>South Sd</td>\n",
       "      <td>South Sd</td>\n",
       "    </tr>\n",
       "    <tr>\n",
       "      <th>168382</th>\n",
       "      <td>2626</td>\n",
       "      <td>None</td>\n",
       "      <td>Coronado Ave</td>\n",
       "      <td>San Diego</td>\n",
       "      <td>CA</td>\n",
       "      <td>88888</td>\n",
       "      <td>I-5 south, exit on Coronado Ave, left turn</td>\n",
       "      <td>Helena Mobile Home Park</td>\n",
       "      <td>Helena Mobile Park</td>\n",
       "    </tr>\n",
       "    <tr>\n",
       "      <th>75687</th>\n",
       "      <td>1915</td>\n",
       "      <td>None</td>\n",
       "      <td>Ranchito Ln</td>\n",
       "      <td>San Diego</td>\n",
       "      <td>CA</td>\n",
       "      <td>91901</td>\n",
       "      <td>Cross Street: Alpine Heights.</td>\n",
       "      <td>Alpine</td>\n",
       "      <td>Alpine</td>\n",
       "    </tr>\n",
       "    <tr>\n",
       "      <th>116941</th>\n",
       "      <td>3033</td>\n",
       "      <td>None</td>\n",
       "      <td>Via Asoleado</td>\n",
       "      <td>San Diego</td>\n",
       "      <td>CA</td>\n",
       "      <td>91901</td>\n",
       "      <td>8E - Tavern Rd (go South) - S Grade (go East) ...</td>\n",
       "      <td>Rancho Palo Verde</td>\n",
       "      <td>Alpine</td>\n",
       "    </tr>\n",
       "    <tr>\n",
       "      <th>4530</th>\n",
       "      <td>3033</td>\n",
       "      <td>None</td>\n",
       "      <td>Via Asoleado</td>\n",
       "      <td>San Diego</td>\n",
       "      <td>CA</td>\n",
       "      <td>91901</td>\n",
       "      <td>8E - Tavern Rd (go South) - S Grade (go East) ...</td>\n",
       "      <td>None</td>\n",
       "      <td>Rancho Palo Verde</td>\n",
       "    </tr>\n",
       "    <tr>\n",
       "      <th>149111</th>\n",
       "      <td>2123</td>\n",
       "      <td>None</td>\n",
       "      <td>DELAND CT</td>\n",
       "      <td>San Diego</td>\n",
       "      <td>CA</td>\n",
       "      <td>91901</td>\n",
       "      <td>S Grade to Deland Dr to Deland Ct Cross Street...</td>\n",
       "      <td>Alpine</td>\n",
       "      <td>Alpine</td>\n",
       "    </tr>\n",
       "    <tr>\n",
       "      <th>133282</th>\n",
       "      <td>2123</td>\n",
       "      <td>None</td>\n",
       "      <td>DELAND CT</td>\n",
       "      <td>San Diego</td>\n",
       "      <td>CA</td>\n",
       "      <td>91901</td>\n",
       "      <td>S Grade to Deland Dr to Deland Ct</td>\n",
       "      <td>None</td>\n",
       "      <td>Alpine</td>\n",
       "    </tr>\n",
       "    <tr>\n",
       "      <th>55955</th>\n",
       "      <td>1915</td>\n",
       "      <td>None</td>\n",
       "      <td>Ranchito Ln</td>\n",
       "      <td>San Diego</td>\n",
       "      <td>CA</td>\n",
       "      <td>91901</td>\n",
       "      <td>None</td>\n",
       "      <td>None</td>\n",
       "      <td>Alpine</td>\n",
       "    </tr>\n",
       "    <tr>\n",
       "      <th>99892</th>\n",
       "      <td>1434</td>\n",
       "      <td>None</td>\n",
       "      <td>Marshall Rd</td>\n",
       "      <td>San Diego</td>\n",
       "      <td>CA</td>\n",
       "      <td>91901</td>\n",
       "      <td>Cross Street: Alpine Blvd.</td>\n",
       "      <td>Alpine</td>\n",
       "      <td>Alpine</td>\n",
       "    </tr>\n",
       "    <tr>\n",
       "      <th>44571</th>\n",
       "      <td>5702</td>\n",
       "      <td>None</td>\n",
       "      <td>Yearling Court</td>\n",
       "      <td>San Diego</td>\n",
       "      <td>CA</td>\n",
       "      <td>91902</td>\n",
       "      <td>None</td>\n",
       "      <td>None</td>\n",
       "      <td>Bonita Highlands</td>\n",
       "    </tr>\n",
       "  </tbody>\n",
       "</table>\n",
       "</div>"
      ],
      "text/plain": [
       "       streetnumber streetdirprefix      streetname       city state   zip5  \\\n",
       "26199          2626            None    Coronado Ave  San Diego    CA  88888   \n",
       "168382         2626            None    Coronado Ave  San Diego    CA  88888   \n",
       "75687          1915            None     Ranchito Ln  San Diego    CA  91901   \n",
       "116941         3033            None    Via Asoleado  San Diego    CA  91901   \n",
       "4530           3033            None    Via Asoleado  San Diego    CA  91901   \n",
       "149111         2123            None       DELAND CT  San Diego    CA  91901   \n",
       "133282         2123            None       DELAND CT  San Diego    CA  91901   \n",
       "55955          1915            None     Ranchito Ln  San Diego    CA  91901   \n",
       "99892          1434            None     Marshall Rd  San Diego    CA  91901   \n",
       "44571          5702            None  Yearling Court  San Diego    CA  91902   \n",
       "\n",
       "                                               directions  \\\n",
       "26199   I-5 south, exit on Coronado Ave, left turn Cro...   \n",
       "168382         I-5 south, exit on Coronado Ave, left turn   \n",
       "75687                      Cross Street: Alpine Heights.    \n",
       "116941  8E - Tavern Rd (go South) - S Grade (go East) ...   \n",
       "4530    8E - Tavern Rd (go South) - S Grade (go East) ...   \n",
       "149111  S Grade to Deland Dr to Deland Ct Cross Street...   \n",
       "133282                  S Grade to Deland Dr to Deland Ct   \n",
       "55955                                                None   \n",
       "99892                         Cross Street: Alpine Blvd.    \n",
       "44571                                                None   \n",
       "\n",
       "                          cmplx          neighborhd  \n",
       "26199                  South Sd            South Sd  \n",
       "168382  Helena Mobile Home Park  Helena Mobile Park  \n",
       "75687                    Alpine              Alpine  \n",
       "116941        Rancho Palo Verde              Alpine  \n",
       "4530                       None   Rancho Palo Verde  \n",
       "149111                   Alpine              Alpine  \n",
       "133282                     None              Alpine  \n",
       "55955                      None              Alpine  \n",
       "99892                    Alpine              Alpine  \n",
       "44571                      None    Bonita Highlands  "
      ]
     },
     "execution_count": 4,
     "metadata": {},
     "output_type": "execute_result"
    }
   ],
   "source": [
    "df.sort_values(by=['zip5'])[:10]"
   ]
  },
  {
   "cell_type": "code",
   "execution_count": 5,
   "metadata": {},
   "outputs": [],
   "source": [
    "import tensorflow as tf\n",
    "import numpy as np"
   ]
  },
  {
   "cell_type": "code",
   "execution_count": 6,
   "metadata": {},
   "outputs": [],
   "source": [
    "df2 = df['streetnumber'].map(lambda s: '{!s:6.6}'.format(str(s))) + ' ' + df['streetname'].map(lambda s: '{!s:20.20}'.format(s)) + ' ' + df['city'] + ' ' + df['zip5']"
   ]
  },
  {
   "cell_type": "code",
   "execution_count": 7,
   "metadata": {},
   "outputs": [
    {
     "data": {
      "text/plain": [
       "0    4660   Coconino Way         San Diego 92117\n",
       "1    3485   Hawk St.             San Diego 92103\n",
       "2    10464  Cheviot Ct.          San Diego 92126\n",
       "3    3814   Merivale Ave         San Diego 92116\n",
       "4    1212   Seagreen Pl          San Diego 92154\n",
       "5    1706   Malden               San Diego 92109\n",
       "6    8891   Armorss Avenue       San Diego 92123\n",
       "7    2909   Keats St             San Diego 92106\n",
       "dtype: object"
      ]
     },
     "execution_count": 7,
     "metadata": {},
     "output_type": "execute_result"
    }
   ],
   "source": [
    "df2[:8]"
   ]
  },
  {
   "cell_type": "code",
   "execution_count": 8,
   "metadata": {},
   "outputs": [],
   "source": [
    "df3 = df2.map(lambda s: list(map(ord, list(s))))"
   ]
  },
  {
   "cell_type": "code",
   "execution_count": 9,
   "metadata": {},
   "outputs": [
    {
     "data": {
      "text/plain": [
       "0    [52, 54, 54, 48, 32, 32, 32, 67, 111, 99, 111,...\n",
       "1    [51, 52, 56, 53, 32, 32, 32, 72, 97, 119, 107,...\n",
       "2    [49, 48, 52, 54, 52, 32, 32, 67, 104, 101, 118...\n",
       "3    [51, 56, 49, 52, 32, 32, 32, 77, 101, 114, 105...\n",
       "4    [49, 50, 49, 50, 32, 32, 32, 83, 101, 97, 103,...\n",
       "5    [49, 55, 48, 54, 32, 32, 32, 77, 97, 108, 100,...\n",
       "6    [56, 56, 57, 49, 32, 32, 32, 65, 114, 109, 111...\n",
       "7    [50, 57, 48, 57, 32, 32, 32, 75, 101, 97, 116,...\n",
       "dtype: object"
      ]
     },
     "execution_count": 9,
     "metadata": {},
     "output_type": "execute_result"
    }
   ],
   "source": [
    "df3[:8]"
   ]
  },
  {
   "cell_type": "code",
   "execution_count": 10,
   "metadata": {},
   "outputs": [],
   "source": [
    "N_CODES = 128\n",
    "def maprow(row):\n",
    "    sess = tf.Session()\n",
    "    v = sess.run(tf.one_hot(row, N_CODES))\n",
    "    return [flatten for sub in v for flatten in sub]\n",
    "    "
   ]
  },
  {
   "cell_type": "code",
   "execution_count": 11,
   "metadata": {},
   "outputs": [
    {
     "data": {
      "text/plain": [
       "0    [0.0, 0.0, 0.0, 0.0, 0.0, 0.0, 0.0, 0.0, 0.0, ...\n",
       "1    [0.0, 0.0, 0.0, 0.0, 0.0, 0.0, 0.0, 0.0, 0.0, ...\n",
       "2    [0.0, 0.0, 0.0, 0.0, 0.0, 0.0, 0.0, 0.0, 0.0, ...\n",
       "3    [0.0, 0.0, 0.0, 0.0, 0.0, 0.0, 0.0, 0.0, 0.0, ...\n",
       "4    [0.0, 0.0, 0.0, 0.0, 0.0, 0.0, 0.0, 0.0, 0.0, ...\n",
       "5    [0.0, 0.0, 0.0, 0.0, 0.0, 0.0, 0.0, 0.0, 0.0, ...\n",
       "6    [0.0, 0.0, 0.0, 0.0, 0.0, 0.0, 0.0, 0.0, 0.0, ...\n",
       "7    [0.0, 0.0, 0.0, 0.0, 0.0, 0.0, 0.0, 0.0, 0.0, ...\n",
       "8    [0.0, 0.0, 0.0, 0.0, 0.0, 0.0, 0.0, 0.0, 0.0, ...\n",
       "9    [0.0, 0.0, 0.0, 0.0, 0.0, 0.0, 0.0, 0.0, 0.0, ...\n",
       "dtype: object"
      ]
     },
     "execution_count": 11,
     "metadata": {},
     "output_type": "execute_result"
    }
   ],
   "source": [
    "train_inputs = df3[:10].map(maprow)\n",
    "train_inputs"
   ]
  },
  {
   "cell_type": "code",
   "execution_count": 12,
   "metadata": {},
   "outputs": [
    {
     "data": {
      "text/plain": [
       "5504"
      ]
     },
     "execution_count": 12,
     "metadata": {},
     "output_type": "execute_result"
    }
   ],
   "source": [
    "train_labels = train_inputs\n",
    "len(train_inputs[0])"
   ]
  },
  {
   "cell_type": "code",
   "execution_count": 13,
   "metadata": {},
   "outputs": [],
   "source": [
    "X = tf.placeholder(tf.float32, shape=[1, len(train_inputs[0])])\n",
    "Y = tf.placeholder(tf.float32, shape=[1, len(train_labels[0])])"
   ]
  },
  {
   "cell_type": "code",
   "execution_count": 14,
   "metadata": {},
   "outputs": [],
   "source": [
    "HIDDEN=10\n",
    "parameters = {\n",
    "\t\t'W1': tf.Variable(tf.random_normal([len(train_inputs[0]), HIDDEN])),\n",
    "\t\t'b1': tf.Variable(tf.random_normal([HIDDEN])),\n",
    "\t\t'W2': tf.Variable(tf.random_normal([HIDDEN, len(train_labels[0])])),\n",
    "\t\t'b2': tf.Variable(tf.random_normal([len(train_labels[0])]))\n",
    "}"
   ]
  },
  {
   "cell_type": "code",
   "execution_count": 15,
   "metadata": {},
   "outputs": [],
   "source": [
    "num_epochs = 2000\n",
    "learning_rate = 0.0005"
   ]
  },
  {
   "cell_type": "code",
   "execution_count": 16,
   "metadata": {},
   "outputs": [],
   "source": [
    "def neural_net(X,parameters):\n",
    "\tZ1 = tf.add(tf.matmul(X, parameters['W1']), parameters['b1'])\n",
    "\tA2 = tf.nn.relu(Z1)\n",
    "\tZ2 = tf.add(tf.matmul(A2, parameters['W2']), parameters['b2'])\n",
    "\treturn Z2"
   ]
  },
  {
   "cell_type": "code",
   "execution_count": 17,
   "metadata": {},
   "outputs": [],
   "source": [
    "def train():\n",
    "    SAMPLES = len(train_inputs)\n",
    "    INPUT_VAR_CODES = len(train_inputs[0])\n",
    "    INPUT_VARS = INPUT_VAR_CODES // N_CODES\n",
    "    OUTPUT_VAR_CODES = len(train_labels[0])\n",
    "    OUTPUT_VARS = OUTPUT_VAR_CODES // N_CODES\n",
    "    Z = neural_net(X,parameters)\n",
    "    costs = []\n",
    "    optimizers = []\n",
    "    for i in range(OUTPUT_VARS):\n",
    "        c = Z[0][N_CODES*i:N_CODES*i+N_CODES]\n",
    "        costs.append(tf.reduce_mean(tf.nn.softmax_cross_entropy_with_logits(logits=c,  labels=Y[0][N_CODES*i:N_CODES*i+N_CODES])))\n",
    "        optimizer_k = optimizers.append(tf.train.AdamOptimizer(learning_rate=learning_rate).minimize(costs[i]))\n",
    "    optimizer = tf.group(*optimizers)\n",
    "    tf.Print('costs:',costs)\n",
    "    cost = tf.reduce_sum(costs)\n",
    "    print(costs)\n",
    "    optimizer = tf.train.AdamOptimizer(learning_rate=learning_rate).minimize(cost)\n",
    "    init = tf.global_variables_initializer()\n",
    "    saver = tf.train.Saver()\n",
    "\n",
    "    with tf.Session() as sess:\n",
    "        sess.run(init)\n",
    "        epoch = 0\n",
    "        while epoch<num_epochs:\n",
    "            for i in range(SAMPLES):\n",
    "                _ , c = sess.run([optimizer, cost], feed_dict={\n",
    "                    X: np.reshape(train_inputs[i],[1,INPUT_VAR_CODES]), \n",
    "                    Y: np.reshape(train_labels[i],[1,OUTPUT_VAR_CODES])\n",
    "                }) \n",
    "                if c <= 0.000001:\n",
    "                    epoch = num_epochs\n",
    "                    break\n",
    "            if epoch % 200 == 0 or epoch == num_epochs:\n",
    "                print (\"Cost after epoch %i: %f\" % (epoch, c))\n",
    "            epoch += 1\n",
    "        saver.save(sess, 'model.ckpt')\n"
   ]
  },
  {
   "cell_type": "code",
   "execution_count": 18,
   "metadata": {},
   "outputs": [
    {
     "name": "stderr",
     "output_type": "stream",
     "text": [
      "WARNING: Logging before flag parsing goes to stderr.\n",
      "W0930 01:08:06.617114 140460271224640 deprecation.py:323] From <ipython-input-17-e0201f704097>:12: softmax_cross_entropy_with_logits (from tensorflow.python.ops.nn_ops) is deprecated and will be removed in a future version.\n",
      "Instructions for updating:\n",
      "\n",
      "Future major versions of TensorFlow will allow gradients to flow\n",
      "into the labels input on backprop by default.\n",
      "\n",
      "See `tf.nn.softmax_cross_entropy_with_logits_v2`.\n",
      "\n",
      "W0930 01:08:12.580577 140460271224640 deprecation.py:323] From <ipython-input-17-e0201f704097>:15: Print (from tensorflow.python.ops.logging_ops) is deprecated and will be removed after 2018-08-20.\n",
      "Instructions for updating:\n",
      "Use tf.print instead of tf.Print. Note that tf.print returns a no-output operator that directly prints the output. Outside of defuns or eager mode, this operator will not be executed unless it is directly specified in session.run or used as a control dependency for other operators. This is only a concern in graph mode. Below is an example of how to ensure tf.print executes in graph mode:\n",
      "```python\n",
      "    sess = tf.compat.v1.Session()\n",
      "    with sess.as_default():\n",
      "        tensor = tf.range(10)\n",
      "        print_op = tf.print(tensor)\n",
      "        with tf.control_dependencies([print_op]):\n",
      "          out = tf.add(tensor, tensor)\n",
      "        sess.run(out)\n",
      "    ```\n",
      "Additionally, to use tf.print in python 2.7, users must make sure to import\n",
      "the following:\n",
      "\n",
      "  `from __future__ import print_function`\n",
      "\n"
     ]
    },
    {
     "name": "stdout",
     "output_type": "stream",
     "text": [
      "[<tf.Tensor 'Mean:0' shape=() dtype=float32>, <tf.Tensor 'Mean_1:0' shape=() dtype=float32>, <tf.Tensor 'Mean_2:0' shape=() dtype=float32>, <tf.Tensor 'Mean_3:0' shape=() dtype=float32>, <tf.Tensor 'Mean_4:0' shape=() dtype=float32>, <tf.Tensor 'Mean_5:0' shape=() dtype=float32>, <tf.Tensor 'Mean_6:0' shape=() dtype=float32>, <tf.Tensor 'Mean_7:0' shape=() dtype=float32>, <tf.Tensor 'Mean_8:0' shape=() dtype=float32>, <tf.Tensor 'Mean_9:0' shape=() dtype=float32>, <tf.Tensor 'Mean_10:0' shape=() dtype=float32>, <tf.Tensor 'Mean_11:0' shape=() dtype=float32>, <tf.Tensor 'Mean_12:0' shape=() dtype=float32>, <tf.Tensor 'Mean_13:0' shape=() dtype=float32>, <tf.Tensor 'Mean_14:0' shape=() dtype=float32>, <tf.Tensor 'Mean_15:0' shape=() dtype=float32>, <tf.Tensor 'Mean_16:0' shape=() dtype=float32>, <tf.Tensor 'Mean_17:0' shape=() dtype=float32>, <tf.Tensor 'Mean_18:0' shape=() dtype=float32>, <tf.Tensor 'Mean_19:0' shape=() dtype=float32>, <tf.Tensor 'Mean_20:0' shape=() dtype=float32>, <tf.Tensor 'Mean_21:0' shape=() dtype=float32>, <tf.Tensor 'Mean_22:0' shape=() dtype=float32>, <tf.Tensor 'Mean_23:0' shape=() dtype=float32>, <tf.Tensor 'Mean_24:0' shape=() dtype=float32>, <tf.Tensor 'Mean_25:0' shape=() dtype=float32>, <tf.Tensor 'Mean_26:0' shape=() dtype=float32>, <tf.Tensor 'Mean_27:0' shape=() dtype=float32>, <tf.Tensor 'Mean_28:0' shape=() dtype=float32>, <tf.Tensor 'Mean_29:0' shape=() dtype=float32>, <tf.Tensor 'Mean_30:0' shape=() dtype=float32>, <tf.Tensor 'Mean_31:0' shape=() dtype=float32>, <tf.Tensor 'Mean_32:0' shape=() dtype=float32>, <tf.Tensor 'Mean_33:0' shape=() dtype=float32>, <tf.Tensor 'Mean_34:0' shape=() dtype=float32>, <tf.Tensor 'Mean_35:0' shape=() dtype=float32>, <tf.Tensor 'Mean_36:0' shape=() dtype=float32>, <tf.Tensor 'Mean_37:0' shape=() dtype=float32>, <tf.Tensor 'Mean_38:0' shape=() dtype=float32>, <tf.Tensor 'Mean_39:0' shape=() dtype=float32>, <tf.Tensor 'Mean_40:0' shape=() dtype=float32>, <tf.Tensor 'Mean_41:0' shape=() dtype=float32>, <tf.Tensor 'Mean_42:0' shape=() dtype=float32>]\n",
      "Cost after epoch 0: 1683.220215\n",
      "Cost after epoch 200: 174.694138\n",
      "Cost after epoch 400: 125.970634\n",
      "Cost after epoch 600: 59.629181\n",
      "Cost after epoch 800: 37.298172\n",
      "Cost after epoch 1000: 21.743883\n",
      "Cost after epoch 1200: 8.188100\n",
      "Cost after epoch 1400: 0.642302\n",
      "Cost after epoch 1600: 0.051090\n",
      "Cost after epoch 1800: 0.009671\n"
     ]
    }
   ],
   "source": [
    "train()"
   ]
  },
  {
   "cell_type": "code",
   "execution_count": 19,
   "metadata": {},
   "outputs": [],
   "source": [
    "def test():\n",
    "    # Test predictions by computing the output using training set as input\n",
    "    with tf.Session() as sess:\n",
    "        init = tf.global_variables_initializer()\n",
    "        sess.run(init)\n",
    "        saver = tf.train.import_meta_graph('model.ckpt.meta')\n",
    "        saver.restore(sess,'model.ckpt')\n",
    "        for row in range(len(train_inputs)):\n",
    "\n",
    "            g = train_inputs[row]\n",
    "            g = np.reshape(g,[1,INPUT_VAR_CODES])\n",
    "            output = neural_net(g,parameters)\n",
    "            outputs = []\n",
    "            for i in range(OUTPUT_VARS):\n",
    "                kk = tf.nn.softmax(output[0][N_CODES*i : N_CODES*i+N_CODES])\n",
    "                outputs.append(kk)\n",
    "                \n",
    "            \n",
    "            out = sess.run(outputs)\n",
    "            out = np.reshape(list(map(list,out)), [1, OUTPUT_VAR_CODES])[0].tolist()\n",
    "            out = list(map(lambda x: float(\"%.1f\" % x), out))\n",
    "            print(\"\\nROW #\" + str(row))\n",
    "            print(\"Expected: \" + str(train_labels[row]))\n",
    "            row = row + 1\n",
    "            print(\"Actual..: \" + str(out))"
   ]
  },
  {
   "cell_type": "code",
   "execution_count": 20,
   "metadata": {},
   "outputs": [
    {
     "name": "stderr",
     "output_type": "stream",
     "text": [
      "W0930 01:11:50.912294 140460271224640 deprecation.py:323] From /home/ec2-user/anaconda3/envs/tensorflow_p36/lib/python3.6/site-packages/tensorflow/python/training/saver.py:1282: checkpoint_exists (from tensorflow.python.training.checkpoint_management) is deprecated and will be removed in a future version.\n",
      "Instructions for updating:\n",
      "Use standard file APIs to check for files with this prefix.\n"
     ]
    },
    {
     "ename": "NameError",
     "evalue": "name 'INPUT_VAR_CODES' is not defined",
     "output_type": "error",
     "traceback": [
      "\u001b[0;31m---------------------------------------------------------------------------\u001b[0m",
      "\u001b[0;31mNameError\u001b[0m                                 Traceback (most recent call last)",
      "\u001b[0;32m<ipython-input-20-fbd55f77ab7c>\u001b[0m in \u001b[0;36m<module>\u001b[0;34m()\u001b[0m\n\u001b[0;32m----> 1\u001b[0;31m \u001b[0mtest\u001b[0m\u001b[0;34m(\u001b[0m\u001b[0;34m)\u001b[0m\u001b[0;34m\u001b[0m\u001b[0m\n\u001b[0m",
      "\u001b[0;32m<ipython-input-19-522b8bdfce7b>\u001b[0m in \u001b[0;36mtest\u001b[0;34m()\u001b[0m\n\u001b[1;32m      9\u001b[0m \u001b[0;34m\u001b[0m\u001b[0m\n\u001b[1;32m     10\u001b[0m             \u001b[0mg\u001b[0m \u001b[0;34m=\u001b[0m \u001b[0mtrain_inputs\u001b[0m\u001b[0;34m[\u001b[0m\u001b[0mrow\u001b[0m\u001b[0;34m]\u001b[0m\u001b[0;34m\u001b[0m\u001b[0m\n\u001b[0;32m---> 11\u001b[0;31m             \u001b[0mg\u001b[0m \u001b[0;34m=\u001b[0m \u001b[0mnp\u001b[0m\u001b[0;34m.\u001b[0m\u001b[0mreshape\u001b[0m\u001b[0;34m(\u001b[0m\u001b[0mg\u001b[0m\u001b[0;34m,\u001b[0m\u001b[0;34m[\u001b[0m\u001b[0;36m1\u001b[0m\u001b[0;34m,\u001b[0m\u001b[0mINPUT_VAR_CODES\u001b[0m\u001b[0;34m]\u001b[0m\u001b[0;34m)\u001b[0m\u001b[0;34m\u001b[0m\u001b[0m\n\u001b[0m\u001b[1;32m     12\u001b[0m             \u001b[0moutput\u001b[0m \u001b[0;34m=\u001b[0m \u001b[0mneural_net\u001b[0m\u001b[0;34m(\u001b[0m\u001b[0mg\u001b[0m\u001b[0;34m,\u001b[0m\u001b[0mparameters\u001b[0m\u001b[0;34m)\u001b[0m\u001b[0;34m\u001b[0m\u001b[0m\n\u001b[1;32m     13\u001b[0m             \u001b[0moutputs\u001b[0m \u001b[0;34m=\u001b[0m \u001b[0;34m[\u001b[0m\u001b[0;34m]\u001b[0m\u001b[0;34m\u001b[0m\u001b[0m\n",
      "\u001b[0;31mNameError\u001b[0m: name 'INPUT_VAR_CODES' is not defined"
     ]
    }
   ],
   "source": [
    "test()"
   ]
  }
 ],
 "metadata": {
  "kernelspec": {
   "display_name": "conda_tensorflow_p36",
   "language": "python",
   "name": "conda_tensorflow_p36"
  },
  "language_info": {
   "codemirror_mode": {
    "name": "ipython",
    "version": 3
   },
   "file_extension": ".py",
   "mimetype": "text/x-python",
   "name": "python",
   "nbconvert_exporter": "python",
   "pygments_lexer": "ipython3",
   "version": "3.6.5"
  }
 },
 "nbformat": 4,
 "nbformat_minor": 4
}
